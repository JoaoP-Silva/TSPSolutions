{
 "cells": [
  {
   "cell_type": "code",
   "execution_count": null,
   "id": "4e0ca077-7e43-4da9-9f79-068e0c5ed1b8",
   "metadata": {},
   "outputs": [],
   "source": [
    "import matplotlib.pyplot as plt\n",
    "import pandas as pd\n",
    "import numpy as np"
   ]
  },
  {
   "cell_type": "code",
   "execution_count": null,
   "id": "20626563-2100-4c20-862f-811a3993c296",
   "metadata": {},
   "outputs": [],
   "source": [
    "df_euc_0 = pd.read_csv('results/result_euc_0.csv')\n",
    "df_man_0 = pd.read_csv('results/result_man_0.csv')"
   ]
  },
  {
   "cell_type": "code",
   "execution_count": null,
   "id": "de039815",
   "metadata": {},
   "outputs": [],
   "source": [
    "df_euc_0.head()"
   ]
  },
  {
   "cell_type": "code",
   "execution_count": null,
   "id": "6f86f49e-3821-4872-a015-0e76975ebb6b",
   "metadata": {},
   "outputs": [],
   "source": [
    "df_euc_2 = pd.read_csv('results/result_euc_2.csv')\n",
    "df_euc_4 = pd.read_csv('results/result_euc_4.csv')\n",
    "df_euc_6 = pd.read_csv('results/result_euc_6.csv')\n",
    "df_man_2 = pd.read_csv('results/result_man_2.csv')\n",
    "df_man_4 = pd.read_csv('results/result_man_4.csv')\n",
    "df_man_6 = pd.read_csv('results/result_man_6.csv')"
   ]
  },
  {
   "attachments": {},
   "cell_type": "markdown",
   "id": "62654c7c",
   "metadata": {},
   "source": [
    "# Comparação com o ótimo Distância Euclidiana"
   ]
  },
  {
   "cell_type": "code",
   "execution_count": null,
   "id": "672bcdc4-b8e4-47b9-b5e7-2725bdd10cec",
   "metadata": {},
   "outputs": [],
   "source": [
    "df = df_euc_0.append([df_euc_2, df_euc_4, df_euc_6])\n",
    "\n",
    "bnb = df.loc[(df['algorithm'] == 0) & (df[ ' i'] == 4)]\n",
    "tat = df.loc[(df['algorithm'] == 1) & (df[ ' i'] == 4)]\n",
    "chris = df.loc[(df['algorithm'] == 2) & (df[ ' i'] == 4)]\n",
    "\n",
    "bnb_path = np.mean(pd.Series.to_numpy(bnb[' path_len']))\n",
    "tat_path = np.mean(pd.Series.to_numpy(tat[' path_len']))\n",
    "chris_path = np.mean(pd.Series.to_numpy(chris[' path_len']))\n",
    "\n",
    "labels = ['Branch and bound', 'Christofides', 'Twice around tree']\n",
    "values = [bnb_path, chris_path, tat_path]\n",
    "colors = [\"blue\", \"green\", \"red\"]\n",
    "fig, ax = plt.subplots()\n",
    "ax.bar( x = labels, height = values, color = colors, label = labels)\n",
    "ax.set_ylim(bottom = 3000)\n",
    "ax.set_xlabel('\\nAlgoritmo')\n",
    "ax.set_ylabel('Tamanho do caminho')\n",
    "ax.legend()\n",
    "plt.savefig('images/caminhos_i_4.png')\n",
    "plt.show()"
   ]
  },
  {
   "cell_type": "code",
   "execution_count": null,
   "id": "4af3baa6-2af3-47f5-9464-ad55a5467aa2",
   "metadata": {},
   "outputs": [],
   "source": [
    "print('O quao proximo foi do otimo Christofides')\n",
    "sub = chris_path - bnb_path\n",
    "div = 1 + sub / bnb_path\n",
    "np.mean(div)"
   ]
  },
  {
   "cell_type": "code",
   "execution_count": null,
   "id": "a01a76b4",
   "metadata": {},
   "outputs": [],
   "source": [
    "print('O quao proximo foi do otimo Twice around the tree')\n",
    "sub = tat_path - bnb_path\n",
    "div = 1 + sub / bnb_path\n",
    "np.mean(div)"
   ]
  },
  {
   "attachments": {},
   "cell_type": "markdown",
   "id": "aca72a81",
   "metadata": {},
   "source": [
    "# Comparação com o ótimo distância Manhattan"
   ]
  },
  {
   "cell_type": "code",
   "execution_count": null,
   "id": "12469cbd",
   "metadata": {},
   "outputs": [],
   "source": [
    "df = df_man_0.append([df_man_2, df_man_4, df_man_6])\n",
    "\n",
    "bnb = df.loc[(df['algorithm'] == 0) & (df[ ' i'] == 4)]\n",
    "tat = df.loc[(df['algorithm'] == 1) & (df[ ' i'] == 4)]\n",
    "chris = df.loc[(df['algorithm'] == 2) & (df[ ' i'] == 4)]\n",
    "\n",
    "bnb_path = np.mean(pd.Series.to_numpy(bnb[' path_len']))\n",
    "tat_path = np.mean(pd.Series.to_numpy(tat[' path_len']))\n",
    "chris_path = np.mean(pd.Series.to_numpy(chris[' path_len']))\n",
    "\n",
    "labels = ['Branch and bound', 'Christofides', 'Twice around tree']\n",
    "values = [bnb_path, chris_path, tat_path]\n",
    "colors = [\"blue\", \"green\", \"red\"]\n",
    "fig, ax = plt.subplots()\n",
    "ax.bar( x = labels, height = values, color = colors, label = labels)\n",
    "ax.set_ylim(bottom = 3000)\n",
    "ax.set_xlabel('\\nAlgoritmo')\n",
    "ax.set_ylabel('Tamanho do caminho')\n",
    "ax.legend()\n",
    "plt.savefig('images/caminhos_i_4_man.png')\n",
    "plt.show()"
   ]
  },
  {
   "cell_type": "code",
   "execution_count": null,
   "id": "a9eb48c4",
   "metadata": {},
   "outputs": [],
   "source": [
    "print('O quao proximo foi do otimo Christofides')\n",
    "sub = chris_path - bnb_path\n",
    "div = 1 + sub / bnb_path\n",
    "np.mean(div)"
   ]
  },
  {
   "cell_type": "code",
   "execution_count": null,
   "id": "dbf6e5e4",
   "metadata": {},
   "outputs": [],
   "source": [
    "print('O quao proximo foi do otimo Twice around the tree')\n",
    "sub = tat_path - bnb_path\n",
    "div = 1 + sub / bnb_path\n",
    "np.mean(div)"
   ]
  },
  {
   "attachments": {},
   "cell_type": "markdown",
   "id": "b7edddf6",
   "metadata": {},
   "source": [
    "# Comparação entre algoritmos de aproximação"
   ]
  },
  {
   "cell_type": "code",
   "execution_count": null,
   "id": "8ff57180",
   "metadata": {},
   "outputs": [],
   "source": [
    "euc = df_euc_0\n",
    "\n",
    "twice = euc.loc[(euc['algorithm'] == 1)]\n",
    "twice_len = pd.Series.to_numpy(twice[' path_len'])\n",
    "i = pd.Series.to_numpy(twice[' i'])\n",
    "i = np.exp2(i)\n",
    "chris = euc.loc[(euc['algorithm'] == 2)]\n",
    "chris_len = pd.Series.to_numpy(chris[' path_len'])\n",
    "\n",
    "plt.plot(i, twice_len, color = 'red', label = 'Twice around the tree')\n",
    "plt.plot(i, chris_len, color = 'green', label = 'Christofides')\n",
    "plt.ylabel('Tamanho do caminho')\n",
    "plt.xlabel('Tamanho da instância')\n",
    "plt.legend()\n",
    "plt.savefig('images/aprox_len_euc.png')"
   ]
  },
  {
   "cell_type": "code",
   "execution_count": null,
   "id": "fe6302f4",
   "metadata": {},
   "outputs": [],
   "source": [
    "print('Ganho médio em porcentagem do algoritmo de Chistofides usando dist Euclidiana')\n",
    "sub = twice_len - chris_len \n",
    "div = sub / twice_len\n",
    "np.mean(div)"
   ]
  },
  {
   "cell_type": "code",
   "execution_count": null,
   "id": "faa90e17",
   "metadata": {},
   "outputs": [],
   "source": [
    "man = df_man_0\n",
    "\n",
    "twice = man.loc[(man['algorithm'] == 1)]\n",
    "twice_len = pd.Series.to_numpy(twice[' path_len'])\n",
    "i = pd.Series.to_numpy(twice[' i'])\n",
    "i = np.exp2(i)\n",
    "chris = man.loc[(man['algorithm'] == 2)]\n",
    "chris_len = pd.Series.to_numpy(chris[' path_len'])\n",
    "\n",
    "plt.plot(i, twice_len, color = 'red', label = 'Twice around the tree')\n",
    "plt.plot(i, chris_len, color = 'green', label = 'Christofides')\n",
    "plt.ylabel('Tamanho do caminho')\n",
    "plt.xlabel('Tamanho da instância')\n",
    "plt.legend()\n",
    "plt.savefig('images/aprox_len._man.png')"
   ]
  },
  {
   "cell_type": "code",
   "execution_count": null,
   "id": "3c66501a",
   "metadata": {},
   "outputs": [],
   "source": [
    "print('Ganho médio em porcentagem do algoritmo de Chistofides usando dist Manhattam')\n",
    "sub = twice_len - chris_len \n",
    "div = sub / twice_len\n",
    "np.mean(div)"
   ]
  },
  {
   "attachments": {},
   "cell_type": "markdown",
   "id": "5d742651",
   "metadata": {},
   "source": [
    "# Comparação tempo"
   ]
  },
  {
   "cell_type": "code",
   "execution_count": null,
   "id": "425881b8",
   "metadata": {},
   "outputs": [],
   "source": [
    "tat = bnb = df_euc_0.loc[df_euc_0['algorithm'] == 1]\n",
    "chris = bnb = df_euc_0.loc[df_euc_0['algorithm'] == 2]\n",
    "\n",
    "tatTime = pd.Series.to_numpy(tat[' time'])\n",
    "chrisTime = pd.Series.to_numpy(chris[' time'])\n",
    "i = pd.Series.to_numpy(twice[' i'])\n",
    "i = np.exp2(i)\n",
    "\n",
    "plt.plot(i, tatTime, color = 'red', label = 'Twice around the tree')\n",
    "plt.plot(i, chrisTime, color = 'green', label = 'Christofides')\n",
    "plt.ylabel('Tempo de execução (segundos)')\n",
    "plt.xlabel('Tamanho da instância (vértices)')\n",
    "plt.legend()\n",
    "plt.savefig('images/tempo_aprox.png')"
   ]
  },
  {
   "cell_type": "code",
   "execution_count": null,
   "id": "d79933a9",
   "metadata": {},
   "outputs": [],
   "source": [
    "print('Tempo de execução medio de cada um')\n",
    "print('Christofides')\n",
    "print(np.mean(chrisTime))\n",
    "print('Twice around')\n",
    "print(np.mean(tatTime))"
   ]
  },
  {
   "cell_type": "code",
   "execution_count": null,
   "id": "fc7b678b",
   "metadata": {},
   "outputs": [],
   "source": [
    "tat = bnb = df_man_0.loc[df_euc_0['algorithm'] == 1]\n",
    "chris = bnb = df_man_0.loc[df_euc_0['algorithm'] == 2]\n",
    "\n",
    "tatTime = pd.Series.to_numpy(tat[' time'])\n",
    "chrisTime = pd.Series.to_numpy(chris[' time'])\n",
    "i = pd.Series.to_numpy(twice[' i'])\n",
    "i = np.exp2(i)\n",
    "\n",
    "plt.plot(i, tatTime, color = 'red', label = 'Twice around the tree')\n",
    "plt.plot(i, chrisTime, color = 'green', label = 'Christofides')\n",
    "plt.ylabel('Tempo de execução (segundos)')\n",
    "plt.xlabel('Tamanho da instância (vértices)')\n",
    "plt.legend()\n",
    "plt.savefig('images/tempo_aprox_man.png')"
   ]
  },
  {
   "cell_type": "code",
   "execution_count": null,
   "id": "71b73614",
   "metadata": {},
   "outputs": [],
   "source": [
    "print('Tempo de execução medio de cada um')\n",
    "print('Christofides')\n",
    "print(np.mean(chrisTime))\n",
    "print('Twice around')\n",
    "print(np.mean(tatTime))"
   ]
  },
  {
   "cell_type": "code",
   "execution_count": null,
   "id": "594f811b",
   "metadata": {},
   "outputs": [],
   "source": [
    "bnb0 = df_euc_0.loc[df_euc_0['algorithm'] == 0]\n",
    "bnb1 = df_euc_2.loc[df_euc_2['algorithm'] == 0]\n",
    "bnb2 = df_euc_4.loc[df_euc_4['algorithm'] == 0]\n",
    "bnb3 = df_euc_6.loc[df_euc_6['algorithm'] == 0]\n",
    "\n",
    "bnb0_time = pd.Series.to_numpy(bnb0[' time'])[0]\n",
    "bnb1_time = pd.Series.to_numpy(bnb1[' time'])[0]\n",
    "bnb2_time = pd.Series.to_numpy(bnb2[' time'])[0]\n",
    "bnb3_time = pd.Series.to_numpy(bnb3[' time'])[0]\n",
    "\n",
    "colors = ['red', 'red', 'red', 'red']\n",
    "seeds = [0, 2, 4, 6]\n",
    "values = [bnb0_time, bnb1_time, bnb2_time, bnb3_time]\n",
    "fig, ax = plt.subplots()\n",
    "ax.bar( x = seeds, height = values, color = colors)\n",
    "ax.set_xlabel('Semente de aleatoriedade')\n",
    "ax.set_ylabel('Tempo de execução (segundos)')\n",
    "ax.set_xticks([0, 2, 4, 6])\n",
    "plt.savefig('images/temposBnb.png')\n",
    "plt.show()\n"
   ]
  },
  {
   "cell_type": "code",
   "execution_count": null,
   "id": "49c49c4b",
   "metadata": {},
   "outputs": [],
   "source": [
    "print('Media de tempo bnb')\n",
    "print(np.mean([bnb0_time, bnb1_time, bnb2_time, bnb3_time]))"
   ]
  }
 ],
 "metadata": {
  "kernelspec": {
   "display_name": "Python 3",
   "language": "python",
   "name": "python3"
  },
  "language_info": {
   "codemirror_mode": {
    "name": "ipython",
    "version": 3
   },
   "file_extension": ".py",
   "mimetype": "text/x-python",
   "name": "python",
   "nbconvert_exporter": "python",
   "pygments_lexer": "ipython3",
   "version": "3.10.6"
  },
  "vscode": {
   "interpreter": {
    "hash": "916dbcbb3f70747c44a77c7bcd40155683ae19c65e1c03b4aa3499c5328201f1"
   }
  }
 },
 "nbformat": 4,
 "nbformat_minor": 5
}
